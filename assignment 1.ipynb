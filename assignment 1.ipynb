{
 "cells": [
  {
   "cell_type": "code",
   "execution_count": null,
   "id": "d111f5c6",
   "metadata": {},
   "outputs": [],
   "source": [
    "import string\n",
    "def ispangram(str):\n",
    "    alphabet = \"abcdefghujklmnopqrstuvwxyz\"\n",
    "    for char in alphabet:\n",
    "        if char not in alphabet:\n",
    "            return false\n",
    "        return True\n",
    "input1 = input(\"write the string\")\n",
    "if(ispangram(input1) == true):\n",
    "    print(\"yes\")\n",
    "else:\n",
    "    print(\"no\")"
   ]
  },
  {
   "cell_type": "code",
   "execution_count": null,
   "id": "0684d122",
   "metadata": {},
   "outputs": [],
   "source": []
  },
  {
   "cell_type": "markdown",
   "id": "beca8495",
   "metadata": {},
   "source": [
    "# pascal's triangle"
   ]
  },
  {
   "cell_type": "code",
   "execution_count": null,
   "id": "cbb11c76",
   "metadata": {},
   "outputs": [],
   "source": [
    "from math import factorial\n",
    "n=int(input(\"enter the number\"))\n",
    "for i in range(n):\n",
    "    for j in range(n-i+1):\n",
    "        print(end\" \")\n",
    "    for j in range(i+1):\n",
    "            print(factorial(i)//(factorial(j)*factorial(i-j)), end=\" \")\n",
    "    print()"
   ]
  },
  {
   "cell_type": "code",
   "execution_count": null,
   "id": "4a98da2a",
   "metadata": {},
   "outputs": [],
   "source": []
  },
  {
   "cell_type": "code",
   "execution_count": null,
   "id": "2f773907",
   "metadata": {},
   "outputs": [],
   "source": []
  },
  {
   "cell_type": "code",
   "execution_count": null,
   "id": "4f8abad1",
   "metadata": {},
   "outputs": [],
   "source": []
  }
 ],
 "metadata": {
  "kernelspec": {
   "display_name": "Python 3 (ipykernel)",
   "language": "python",
   "name": "python3"
  },
  "language_info": {
   "codemirror_mode": {
    "name": "ipython",
    "version": 3
   },
   "file_extension": ".py",
   "mimetype": "text/x-python",
   "name": "python",
   "nbconvert_exporter": "python",
   "pygments_lexer": "ipython3",
   "version": "3.9.13"
  }
 },
 "nbformat": 4,
 "nbformat_minor": 5
}
